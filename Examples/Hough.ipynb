{
 "cells": [
  {
   "cell_type": "code",
   "execution_count": null,
   "metadata": {},
   "outputs": [],
   "source": [
    "# Total least squares line fitting\n",
    "import numpy as np\n",
    "import matplotlib.pyplot as plt\n",
    "\n",
    "# Genrating the true line y = m*x + c\n",
    "m = 2 # gradient \n",
    "c = 1 # intercept\n",
    "x = np.arange(1,10, 1)\n",
    "np.random.seed(45)\n",
    "noise = np.random.randn(len(x))\n",
    "o = np.zeros(x.shape)\n",
    "#o[-2] = 28\n",
    "o[-4] = 18\n",
    "y = m*x + c + noise + o\n",
    "\n",
    "n = len(x)\n",
    "\n",
    "u11 = np.sum((x - np.mean(x))**2)\n",
    "u12 = np.sum((x - np.mean(x))*(y - np.mean(y)))\n",
    "u21 = u12\n",
    "u22 = np.sum((y - np.mean(y))**2)\n",
    "U = np.array([[u11, u12], [u21, u22]])\n",
    "w, v = np.linalg.eig(U)\n",
    "smallest_eigenvector = v[:, np.argmin(w)]\n",
    "a = smallest_eigenvector[0]\n",
    "b = smallest_eigenvector[1]\n",
    "d = a*np.mean(x) + b*np.mean(y)\n",
    "mstar = -a/b\n",
    "cstar = d/b\n",
    "\n",
    "\n",
    "\n",
    "plt.plot([x[0], x[-1]], [m*x[0] + c, m*x[-1] + c], color='g', linewidth=2, label=r'True line')\n",
    "plt.plot([x[0], x[-1]], [mstar*x[0] + cstar, mstar*x[-1] + cstar], color='r', linewidth=1, label=r'Estimated line (TLS)')\n",
    "plt.plot(x,y, 'o', label='Noisy points')\n",
    "plt.legend(loc='best')"
   ]
  }
 ],
 "metadata": {
  "kernelspec": {
   "display_name": "Python 3",
   "language": "python",
   "name": "python3"
  },
  "language_info": {
   "name": "python",
   "version": "3.11.0"
  },
  "orig_nbformat": 4,
  "vscode": {
   "interpreter": {
    "hash": "e7370f93d1d0cde622a1f8e1c04877d8463912d04d973331ad4851f04de6915a"
   }
  }
 },
 "nbformat": 4,
 "nbformat_minor": 2
}
